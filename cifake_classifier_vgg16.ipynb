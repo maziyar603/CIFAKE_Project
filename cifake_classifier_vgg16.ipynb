{
  "cells": [
    {
      "cell_type": "markdown",
      "id": "SZfp36HhscDo",
      "metadata": {
        "id": "SZfp36HhscDo"
      },
      "source": [
        "## CIFAKE Dataset"
      ]
    },
    {
      "cell_type": "code",
      "execution_count": 1,
      "id": "kcRx3wAxsV48",
      "metadata": {
        "colab": {
          "base_uri": "https://localhost:8080/"
        },
        "id": "kcRx3wAxsV48",
        "outputId": "8c64f4b5-a5ab-4527-9eed-97198ea33b54"
      },
      "outputs": [
        {
          "name": "stderr",
          "output_type": "stream",
          "text": [
            "'wget' is not recognized as an internal or external command,\n",
            "operable program or batch file.\n",
            "'unzip' is not recognized as an internal or external command,\n",
            "operable program or batch file.\n"
          ]
        },
        {
          "ename": "",
          "evalue": "",
          "output_type": "error",
          "traceback": [
            "\u001b[1;31mThe Kernel crashed while executing code in the current cell or a previous cell. \n",
            "\u001b[1;31mPlease review the code in the cell(s) to identify a possible cause of the failure. \n",
            "\u001b[1;31mClick <a href='https://aka.ms/vscodeJupyterKernelCrash'>here</a> for more info. \n",
            "\u001b[1;31mView Jupyter <a href='command:jupyter.viewOutput'>log</a> for further details."
          ]
        }
      ],
      "source": [
        "!wget https://www.inf.ufpr.br/acgbas19/cifake-dataset.zip\n",
        "!unzip -d cifake-dataset cifake-dataset.zip"
      ]
    },
    {
      "cell_type": "markdown",
      "id": "2008bb80",
      "metadata": {
        "id": "2008bb80"
      },
      "source": [
        "## Módulos"
      ]
    },
    {
      "cell_type": "code",
      "execution_count": null,
      "id": "bd3acf67",
      "metadata": {
        "id": "bd3acf67"
      },
      "outputs": [],
      "source": [
        "import cv2\n",
        "import glob\n",
        "import numpy as np\n",
        "import os\n",
        "import tensorflow as tf\n",
        "\n",
        "from sklearn.model_selection import train_test_split"
      ]
    },
    {
      "cell_type": "markdown",
      "id": "U8GR57MTP-f3",
      "metadata": {
        "id": "U8GR57MTP-f3"
      },
      "source": [
        "## Conjuntos de treinamento e de validação (Train set | Validation Set)"
      ]
    },
    {
      "cell_type": "code",
      "execution_count": null,
      "id": "LetEr0HLP8AB",
      "metadata": {
        "id": "LetEr0HLP8AB"
      },
      "outputs": [],
      "source": [
        "dataset_dir = \"./cifake-dataset/\"\n",
        "trainset_dir = dataset_dir + \"train/\"\n",
        "testset_dir = dataset_dir + \"test/\"\n",
        "\n",
        "X = []\n",
        "y = []\n",
        "\n",
        "for filename in glob.glob(trainset_dir + \"**/*.jpg\"):\n",
        "  img = cv2.imread(filename)\n",
        "  X.append(img)\n",
        "  if \"FAKE\" in filename:\n",
        "    y.append(0)\n",
        "  else:\n",
        "    y.append(1)\n",
        "\n",
        "X_train, X_val, y_train, y_val = train_test_split(X, y, test_size=0.2, random_state=42)\n",
        "\n",
        "X_train = np.array(X_train)/255\n",
        "y_train = np.array(y_train)\n",
        "\n",
        "X_val = np.array(X_val)/255\n",
        "y_val = np.array(y_val)"
      ]
    },
    {
      "cell_type": "code",
      "execution_count": null,
      "id": "3I_EJy74HBzA",
      "metadata": {
        "colab": {
          "base_uri": "https://localhost:8080/"
        },
        "id": "3I_EJy74HBzA",
        "outputId": "f6a43d65-9b68-4566-fc6f-72dbea552c93"
      },
      "outputs": [
        {
          "data": {
            "text/plain": [
              "((80000, 32, 32, 3), (80000,), (20000, 32, 32, 3), (20000,))"
            ]
          },
          "execution_count": 4,
          "metadata": {},
          "output_type": "execute_result"
        }
      ],
      "source": [
        "X_train.shape, y_train.shape, X_val.shape, y_val.shape"
      ]
    },
    {
      "cell_type": "code",
      "execution_count": null,
      "id": "1zphg5u5NbyA",
      "metadata": {
        "colab": {
          "base_uri": "https://localhost:8080/"
        },
        "id": "1zphg5u5NbyA",
        "outputId": "58843192-7d0e-4eb7-f235-9eaa7f6d6fff"
      },
      "outputs": [
        {
          "data": {
            "text/plain": [
              "(array([[[0.08627451, 0.08235294, 0.09019608],\n",
              "         [0.09019608, 0.08627451, 0.09411765],\n",
              "         [0.05882353, 0.05490196, 0.0627451 ],\n",
              "         ...,\n",
              "         [0.88235294, 0.87843137, 0.88627451],\n",
              "         [0.89411765, 0.89019608, 0.89803922],\n",
              "         [0.8       , 0.79607843, 0.80392157]],\n",
              " \n",
              "        [[0.08235294, 0.07843137, 0.08627451],\n",
              "         [0.09019608, 0.08627451, 0.09411765],\n",
              "         [0.0627451 , 0.05882353, 0.06666667],\n",
              "         ...,\n",
              "         [0.83137255, 0.82745098, 0.83529412],\n",
              "         [0.87843137, 0.8745098 , 0.88235294],\n",
              "         [0.82352941, 0.81960784, 0.82745098]],\n",
              " \n",
              "        [[0.07843137, 0.0745098 , 0.08235294],\n",
              "         [0.09019608, 0.08627451, 0.09411765],\n",
              "         [0.06666667, 0.0627451 , 0.07058824],\n",
              "         ...,\n",
              "         [0.8       , 0.79607843, 0.80392157],\n",
              "         [0.8745098 , 0.87058824, 0.87843137],\n",
              "         [0.85098039, 0.84705882, 0.85490196]],\n",
              " \n",
              "        ...,\n",
              " \n",
              "        [[0.43137255, 0.42745098, 0.43529412],\n",
              "         [0.40392157, 0.4       , 0.40784314],\n",
              "         [0.37647059, 0.37254902, 0.38039216],\n",
              "         ...,\n",
              "         [0.32156863, 0.31764706, 0.3254902 ],\n",
              "         [0.43137255, 0.42745098, 0.43529412],\n",
              "         [0.45490196, 0.45098039, 0.45882353]],\n",
              " \n",
              "        [[0.40392157, 0.4       , 0.40784314],\n",
              "         [0.34117647, 0.3372549 , 0.34509804],\n",
              "         [0.30980392, 0.30588235, 0.31372549],\n",
              "         ...,\n",
              "         [0.43529412, 0.43137255, 0.43921569],\n",
              "         [0.43529412, 0.43137255, 0.43921569],\n",
              "         [0.4       , 0.39607843, 0.40392157]],\n",
              " \n",
              "        [[0.40784314, 0.40392157, 0.41176471],\n",
              "         [0.38039216, 0.37647059, 0.38431373],\n",
              "         [0.41960784, 0.41568627, 0.42352941],\n",
              "         ...,\n",
              "         [0.4627451 , 0.45882353, 0.46666667],\n",
              "         [0.47058824, 0.46666667, 0.4745098 ],\n",
              "         [0.4745098 , 0.47058824, 0.47843137]]]),\n",
              " 0)"
            ]
          },
          "execution_count": 5,
          "metadata": {},
          "output_type": "execute_result"
        }
      ],
      "source": [
        "X_train[0], y_train[0]"
      ]
    },
    {
      "cell_type": "markdown",
      "id": "5EweMTFlRyZx",
      "metadata": {
        "id": "5EweMTFlRyZx"
      },
      "source": [
        "## Conjunto de teste (Test set)"
      ]
    },
    {
      "cell_type": "code",
      "execution_count": null,
      "id": "z9inIgUuRyBu",
      "metadata": {
        "id": "z9inIgUuRyBu"
      },
      "outputs": [],
      "source": [
        "X = []\n",
        "y = []\n",
        "\n",
        "for filename in glob.glob(testset_dir + \"**/*.jpg\"):\n",
        "  img = cv2.imread(filename)\n",
        "  X.append(img)\n",
        "  if \"FAKE\" in filename:\n",
        "    y.append(0)\n",
        "  else:\n",
        "    y.append(1)\n",
        "\n",
        "X_test = np.array(X)/255\n",
        "y_test = np.array(y)"
      ]
    },
    {
      "cell_type": "code",
      "execution_count": null,
      "id": "yiYEc3WnHvzW",
      "metadata": {
        "colab": {
          "base_uri": "https://localhost:8080/"
        },
        "id": "yiYEc3WnHvzW",
        "outputId": "3cfd6dca-1ce3-4598-9d0c-8b034ba623a1"
      },
      "outputs": [
        {
          "data": {
            "text/plain": [
              "((20000, 32, 32, 3), (20000,))"
            ]
          },
          "execution_count": 7,
          "metadata": {},
          "output_type": "execute_result"
        }
      ],
      "source": [
        "X_test.shape, y_test.shape"
      ]
    },
    {
      "cell_type": "markdown",
      "id": "31d14a46",
      "metadata": {
        "id": "31d14a46"
      },
      "source": [
        "## Importing **\"keras\"** for CNN"
      ]
    },
    {
      "cell_type": "code",
      "execution_count": null,
      "id": "5306ca43",
      "metadata": {
        "colab": {
          "base_uri": "https://localhost:8080/"
        },
        "id": "5306ca43",
        "outputId": "c68161bc-00f0-4261-e9f9-be7b0ac0309f"
      },
      "outputs": [
        {
          "name": "stdout",
          "output_type": "stream",
          "text": [
            "Downloading data from https://storage.googleapis.com/tensorflow/keras-applications/vgg16/vgg16_weights_tf_dim_ordering_tf_kernels_notop.h5\n",
            "58889256/58889256 [==============================] - 2s 0us/step\n",
            "Model: \"sequential\"\n",
            "_________________________________________________________________\n",
            " Layer (type)                Output Shape              Param #   \n",
            "=================================================================\n",
            " vgg16 (Functional)          (None, 1, 1, 512)         14714688  \n",
            "                                                                 \n",
            " flatten (Flatten)           (None, 512)               0         \n",
            "                                                                 \n",
            " dense (Dense)               (None, 2)                 1026      \n",
            "                                                                 \n",
            "=================================================================\n",
            "Total params: 14,715,714\n",
            "Trainable params: 14,715,714\n",
            "Non-trainable params: 0\n",
            "_________________________________________________________________\n"
          ]
        }
      ],
      "source": [
        "from tensorflow.keras import models , layers\n",
        "from tensorflow.keras.applications import VGG16\n",
        "from tensorflow.keras.models import Sequential\n",
        "from tensorflow.keras.layers import Flatten, Dense, Dropout\n",
        "from tensorflow.keras.callbacks import ModelCheckpoint, CSVLogger, EarlyStopping\n",
        "\n",
        "ef_model = VGG16(input_shape=(32, 32, 3), include_top=False, weights='imagenet')\n",
        "\n",
        "model = Sequential()\n",
        "model.add(ef_model)\n",
        "model.add(Flatten())\n",
        "# model.add(Dense(256, activation='relu'))\n",
        "model.add(Dense(2, activation='sigmoid'))\n",
        "\n",
        "model.summary()"
      ]
    },
    {
      "cell_type": "code",
      "execution_count": null,
      "id": "c3a6YUSyAN9t",
      "metadata": {
        "colab": {
          "base_uri": "https://localhost:8080/"
        },
        "id": "c3a6YUSyAN9t",
        "outputId": "547c1b44-8122-41b3-af7a-a27f278fc799"
      },
      "outputs": [
        {
          "name": "stdout",
          "output_type": "stream",
          "text": [
            "Epoch 1/50\n",
            "2500/2500 [==============================] - ETA: 0s - loss: 0.3380 - accuracy: 0.8531\n",
            "Epoch 1: val_loss improved from inf to 0.22335, saving model to ./vgg16-model/models/vgg16_model.01-0.2233485.h5\n",
            "2500/2500 [==============================] - 88s 29ms/step - loss: 0.3380 - accuracy: 0.8531 - val_loss: 0.2233 - val_accuracy: 0.9097\n",
            "Epoch 2/50\n",
            "2499/2500 [============================>.] - ETA: 0s - loss: 0.2291 - accuracy: 0.9089\n",
            "Epoch 2: val_loss improved from 0.22335 to 0.19982, saving model to ./vgg16-model/models/vgg16_model.02-0.1998219.h5\n",
            "2500/2500 [==============================] - 80s 32ms/step - loss: 0.2291 - accuracy: 0.9089 - val_loss: 0.1998 - val_accuracy: 0.9222\n",
            "Epoch 3/50\n",
            "2500/2500 [==============================] - ETA: 0s - loss: 0.8860 - accuracy: 0.8671\n",
            "Epoch 3: val_loss did not improve from 0.19982\n",
            "2500/2500 [==============================] - 72s 29ms/step - loss: 0.8860 - accuracy: 0.8671 - val_loss: 0.4701 - val_accuracy: 0.7691\n",
            "Epoch 4/50\n",
            "2499/2500 [============================>.] - ETA: 0s - loss: 0.2695 - accuracy: 0.8889\n",
            "Epoch 4: val_loss did not improve from 0.19982\n",
            "2500/2500 [==============================] - 72s 29ms/step - loss: 0.2694 - accuracy: 0.8889 - val_loss: 0.2608 - val_accuracy: 0.8895\n",
            "Epoch 5/50\n",
            "2499/2500 [============================>.] - ETA: 0s - loss: 0.2214 - accuracy: 0.9104\n",
            "Epoch 5: val_loss did not improve from 0.19982\n",
            "2500/2500 [==============================] - 71s 28ms/step - loss: 0.2214 - accuracy: 0.9104 - val_loss: 0.2116 - val_accuracy: 0.9162\n",
            "Epoch 6/50\n",
            "2499/2500 [============================>.] - ETA: 0s - loss: 0.1883 - accuracy: 0.9252\n",
            "Epoch 6: val_loss did not improve from 0.19982\n",
            "2500/2500 [==============================] - 71s 28ms/step - loss: 0.1883 - accuracy: 0.9252 - val_loss: 0.2056 - val_accuracy: 0.9167\n",
            "Epoch 7/50\n",
            "2499/2500 [============================>.] - ETA: 0s - loss: 0.2441 - accuracy: 0.9026\n",
            "Epoch 7: val_loss improved from 0.19982 to 0.17724, saving model to ./vgg16-model/models/vgg16_model.07-0.1772371.h5\n",
            "2500/2500 [==============================] - 76s 30ms/step - loss: 0.2440 - accuracy: 0.9026 - val_loss: 0.1772 - val_accuracy: 0.9322\n",
            "Epoch 8/50\n",
            "2499/2500 [============================>.] - ETA: 0s - loss: 0.1773 - accuracy: 0.9310\n",
            "Epoch 8: val_loss did not improve from 0.17724\n",
            "2500/2500 [==============================] - 72s 29ms/step - loss: 0.1773 - accuracy: 0.9309 - val_loss: 0.1821 - val_accuracy: 0.9253\n",
            "Epoch 9/50\n",
            "2499/2500 [============================>.] - ETA: 0s - loss: 0.1820 - accuracy: 0.9293\n",
            "Epoch 9: val_loss did not improve from 0.17724\n",
            "2500/2500 [==============================] - 71s 28ms/step - loss: 0.1820 - accuracy: 0.9293 - val_loss: 0.1838 - val_accuracy: 0.9269\n",
            "Epoch 10/50\n",
            "2499/2500 [============================>.] - ETA: 0s - loss: 0.1856 - accuracy: 0.9303\n",
            "Epoch 10: val_loss did not improve from 0.17724\n",
            "2500/2500 [==============================] - 71s 28ms/step - loss: 0.1856 - accuracy: 0.9303 - val_loss: 0.2440 - val_accuracy: 0.9064\n",
            "Epoch 11/50\n",
            "2499/2500 [============================>.] - ETA: 0s - loss: 0.1781 - accuracy: 0.9309\n",
            "Epoch 11: val_loss improved from 0.17724 to 0.15364, saving model to ./vgg16-model/models/vgg16_model.11-0.1536417.h5\n",
            "2500/2500 [==============================] - 72s 29ms/step - loss: 0.1781 - accuracy: 0.9309 - val_loss: 0.1536 - val_accuracy: 0.9391\n",
            "Epoch 12/50\n",
            "2499/2500 [============================>.] - ETA: 0s - loss: 0.1464 - accuracy: 0.9430\n",
            "Epoch 12: val_loss did not improve from 0.15364\n",
            "2500/2500 [==============================] - 71s 28ms/step - loss: 0.1464 - accuracy: 0.9430 - val_loss: 0.1812 - val_accuracy: 0.9327\n",
            "Epoch 13/50\n",
            "2499/2500 [============================>.] - ETA: 0s - loss: 0.1551 - accuracy: 0.9410\n",
            "Epoch 13: val_loss improved from 0.15364 to 0.13734, saving model to ./vgg16-model/models/vgg16_model.13-0.1373381.h5\n",
            "2500/2500 [==============================] - 72s 29ms/step - loss: 0.1552 - accuracy: 0.9410 - val_loss: 0.1373 - val_accuracy: 0.9487\n",
            "Epoch 14/50\n",
            "2499/2500 [============================>.] - ETA: 0s - loss: 0.1207 - accuracy: 0.9535\n",
            "Epoch 14: val_loss did not improve from 0.13734\n",
            "2500/2500 [==============================] - 71s 28ms/step - loss: 0.1207 - accuracy: 0.9535 - val_loss: 0.2138 - val_accuracy: 0.9468\n",
            "Epoch 15/50\n",
            "2499/2500 [============================>.] - ETA: 0s - loss: 0.1133 - accuracy: 0.9568\n",
            "Epoch 15: val_loss did not improve from 0.13734\n",
            "2500/2500 [==============================] - 70s 28ms/step - loss: 0.1132 - accuracy: 0.9568 - val_loss: 0.2191 - val_accuracy: 0.9524\n",
            "Epoch 16/50\n",
            "2499/2500 [============================>.] - ETA: 0s - loss: 0.1444 - accuracy: 0.9451\n",
            "Epoch 16: val_loss improved from 0.13734 to 0.12466, saving model to ./vgg16-model/models/vgg16_model.16-0.1246641.h5\n",
            "2500/2500 [==============================] - 76s 30ms/step - loss: 0.1445 - accuracy: 0.9451 - val_loss: 0.1247 - val_accuracy: 0.9524\n",
            "Epoch 17/50\n",
            "2499/2500 [============================>.] - ETA: 0s - loss: 0.1326 - accuracy: 0.9497\n",
            "Epoch 17: val_loss did not improve from 0.12466\n",
            "2500/2500 [==============================] - 72s 29ms/step - loss: 0.1326 - accuracy: 0.9496 - val_loss: 0.1771 - val_accuracy: 0.9313\n",
            "Epoch 18/50\n",
            "2499/2500 [============================>.] - ETA: 0s - loss: 0.1587 - accuracy: 0.9407\n",
            "Epoch 18: val_loss did not improve from 0.12466\n",
            "2500/2500 [==============================] - 70s 28ms/step - loss: 0.1586 - accuracy: 0.9407 - val_loss: 0.1348 - val_accuracy: 0.9499\n",
            "Epoch 19/50\n",
            "2499/2500 [============================>.] - ETA: 0s - loss: 0.1768 - accuracy: 0.9343\n",
            "Epoch 19: val_loss did not improve from 0.12466\n",
            "2500/2500 [==============================] - 71s 28ms/step - loss: 0.1768 - accuracy: 0.9343 - val_loss: 0.2748 - val_accuracy: 0.9004\n",
            "Epoch 20/50\n",
            "2499/2500 [============================>.] - ETA: 0s - loss: 0.9151 - accuracy: 0.8837\n",
            "Epoch 20: val_loss did not improve from 0.12466\n",
            "2500/2500 [==============================] - 71s 29ms/step - loss: 0.9148 - accuracy: 0.8838 - val_loss: 0.2219 - val_accuracy: 0.9119\n",
            "Epoch 21/50\n",
            "2499/2500 [============================>.] - ETA: 0s - loss: 0.4075 - accuracy: 0.8424\n",
            "Epoch 21: val_loss did not improve from 0.12466\n",
            "2500/2500 [==============================] - 71s 28ms/step - loss: 0.4078 - accuracy: 0.8422 - val_loss: 0.9417 - val_accuracy: 0.5017\n",
            "Epoch 21: early stopping\n"
          ]
        },
        {
          "data": {
            "text/plain": [
              "<keras.callbacks.History at 0x7f20751deb90>"
            ]
          },
          "execution_count": 9,
          "metadata": {},
          "output_type": "execute_result"
        }
      ],
      "source": [
        "MODEL_OUTPUT_DIR = './vgg16-model/'\n",
        "!rm -rf vgg16-model\n",
        "!mkdir -p vgg16-model\n",
        "\n",
        "trainning_patience = 5\n",
        "num_epochs = 50\n",
        "\n",
        "checkpoint_filepath = os.path.join(MODEL_OUTPUT_DIR, 'models', '{0}_model.{1}-{2}.h5'.format('vgg16', '{epoch:02d}', '{val_loss:.7f}'))\n",
        "checkpoint_callback = ModelCheckpoint(checkpoint_filepath, save_best_only=True, verbose=1)\n",
        "csv_callback = CSVLogger(os.path.join(MODEL_OUTPUT_DIR, 'training_log.csv'))\n",
        "early_stopping_callback = EarlyStopping(monitor='val_loss', patience=trainning_patience, verbose=1)\n",
        "callbacks=[csv_callback, checkpoint_callback, early_stopping_callback]\n",
        "\n",
        "model.compile(\n",
        "    optimizer = 'adam',\n",
        "    loss= 'sparse_categorical_crossentropy',\n",
        "    metrics = ['accuracy']\n",
        ")\n",
        "\n",
        "model.fit(\n",
        "    X_train, y_train,\n",
        "    validation_data=(X_val, y_val),\n",
        "    batch_size=32,\n",
        "    epochs=num_epochs,\n",
        "    callbacks=callbacks,\n",
        "    verbose=1\n",
        ")"
      ]
    },
    {
      "cell_type": "code",
      "execution_count": null,
      "id": "hKjS4eaYy9vi",
      "metadata": {
        "colab": {
          "base_uri": "https://localhost:8080/"
        },
        "id": "hKjS4eaYy9vi",
        "outputId": "f1aec801-7c71-48a0-8a28-6d34d57dbb2e"
      },
      "outputs": [
        {
          "name": "stdout",
          "output_type": "stream",
          "text": [
            "Using model ./vgg16-model/models/vgg16_model.16-0.1246641.h5 for testing.\n"
          ]
        }
      ],
      "source": [
        "from tensorflow.keras.models import load_model\n",
        "\n",
        "models = glob.glob('./vgg16-model/models/*.h5')\n",
        "best_model = max(models, key=os.path.getctime)\n",
        "MODEL_PATH = best_model\n",
        "print('Using model {0} for testing.'.format(MODEL_PATH))\n",
        "model = load_model(MODEL_PATH)"
      ]
    },
    {
      "cell_type": "code",
      "execution_count": null,
      "id": "878d8056",
      "metadata": {
        "colab": {
          "base_uri": "https://localhost:8080/"
        },
        "id": "878d8056",
        "outputId": "f1ee80eb-00d0-4c0d-c29c-77940af27312"
      },
      "outputs": [
        {
          "name": "stdout",
          "output_type": "stream",
          "text": [
            "625/625 [==============================] - 5s 8ms/step - loss: 0.1296 - accuracy: 0.9509\n"
          ]
        },
        {
          "data": {
            "text/plain": [
              "[0.12964525818824768, 0.9509000182151794]"
            ]
          },
          "execution_count": 11,
          "metadata": {},
          "output_type": "execute_result"
        }
      ],
      "source": [
        "model.evaluate(X_test, y_test)"
      ]
    },
    {
      "cell_type": "code",
      "execution_count": null,
      "id": "S2YHjC4Ez-AM",
      "metadata": {
        "colab": {
          "base_uri": "https://localhost:8080/"
        },
        "id": "S2YHjC4Ez-AM",
        "outputId": "451acb60-d08e-4730-982b-65180145e3ec"
      },
      "outputs": [
        {
          "name": "stdout",
          "output_type": "stream",
          "text": [
            "625/625 [==============================] - 4s 7ms/step\n"
          ]
        }
      ],
      "source": [
        "y_pred = model.predict(X_test)"
      ]
    },
    {
      "cell_type": "code",
      "execution_count": null,
      "id": "e3f5ba82",
      "metadata": {
        "colab": {
          "base_uri": "https://localhost:8080/"
        },
        "id": "e3f5ba82",
        "outputId": "38a40e01-cbf0-46d9-be7c-16272609155b"
      },
      "outputs": [
        {
          "data": {
            "text/plain": [
              "[1, 1, 1, 1, 1]"
            ]
          },
          "execution_count": 13,
          "metadata": {},
          "output_type": "execute_result"
        }
      ],
      "source": [
        "y_pred_label = [np.argmax(i) for i in y_pred]\n",
        "y_pred_label[:5]"
      ]
    },
    {
      "cell_type": "markdown",
      "id": "6b6c3b96",
      "metadata": {
        "id": "6b6c3b96"
      },
      "source": [
        "## Classification Report"
      ]
    },
    {
      "cell_type": "code",
      "execution_count": null,
      "id": "19e35551",
      "metadata": {
        "colab": {
          "base_uri": "https://localhost:8080/"
        },
        "id": "19e35551",
        "outputId": "6465732a-f5bb-47d8-d2d4-57fe4dd8b878"
      },
      "outputs": [
        {
          "name": "stdout",
          "output_type": "stream",
          "text": [
            "Classification Report     : \n",
            "\n",
            "\n",
            "               precision    recall  f1-score   support\n",
            "\n",
            "           0       0.95      0.95      0.95     10000\n",
            "           1       0.95      0.95      0.95     10000\n",
            "\n",
            "    accuracy                           0.95     20000\n",
            "   macro avg       0.95      0.95      0.95     20000\n",
            "weighted avg       0.95      0.95      0.95     20000\n",
            "\n"
          ]
        }
      ],
      "source": [
        "from sklearn.metrics import classification_report\n",
        "\n",
        "print('Classification Report     : \\n\\n\\n' , classification_report(y_test, y_pred_label))"
      ]
    },
    {
      "cell_type": "markdown",
      "id": "b5723beb",
      "metadata": {
        "id": "b5723beb"
      },
      "source": [
        "## Confusion Matrix"
      ]
    },
    {
      "cell_type": "code",
      "execution_count": null,
      "id": "d1843e70",
      "metadata": {
        "id": "d1843e70"
      },
      "outputs": [],
      "source": [
        "from sklearn.metrics import confusion_matrix\n",
        "\n",
        "cm = confusion_matrix(y_test, y_pred_label)"
      ]
    },
    {
      "cell_type": "code",
      "execution_count": null,
      "id": "da6ea6e6",
      "metadata": {
        "colab": {
          "base_uri": "https://localhost:8080/",
          "height": 410
        },
        "id": "da6ea6e6",
        "outputId": "36390bc3-0023-4f24-a49f-6af258917008"
      },
      "outputs": [
        {
          "data": {
            "image/png": "[encoded data removed]",
            "text/plain": [
              "<Figure size 400x400 with 2 Axes>"
            ]
          },
          "metadata": {},
          "output_type": "display_data"
        }
      ],
      "source": [
        "import matplotlib.pyplot as plt\n",
        "import seaborn as sn\n",
        "\n",
        "\n",
        "plt.figure(figsize=(4,4), facecolor= 'white', edgecolor='brown')\n",
        "sn.heatmap(cm , annot= True, fmt=\"d\")\n",
        "plt.xlabel('Prediction')\n",
        "plt.ylabel('Truth')\n",
        "plt.title('Confusion Matrix')\n",
        "plt.show()"
      ]
    }
  ],
  "metadata": {
    "accelerator": "GPU",
    "colab": {
      "collapsed_sections": [
        "SZfp36HhscDo"
      ],
      "gpuType": "T4",
      "provenance": []
    },
    "kernelspec": {
      "display_name": "Python 3",
      "name": "python3"
    },
    "language_info": {
      "codemirror_mode": {
        "name": "ipython",
        "version": 3
      },
      "file_extension": ".py",
      "mimetype": "text/x-python",
      "name": "python",
      "nbconvert_exporter": "python",
      "pygments_lexer": "ipython3",
      "version": "3.12.2"
    },
    "papermill": {
      "default_parameters": {},
      "duration": 1602.885985,
      "end_time": "2023-05-16T02:18:54.287650",
      "environment_variables": {},
      "exception": null,
      "input_path": "__notebook__.ipynb",
      "output_path": "__notebook__.ipynb",
      "parameters": {},
      "start_time": "2023-05-16T01:52:11.401665",
      "version": "2.4.0"
    }
  },
  "nbformat": 4,
  "nbformat_minor": 5
}
